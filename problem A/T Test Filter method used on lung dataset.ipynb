{
 "cells": [
  {
   "cell_type": "code",
   "execution_count": 27,
   "metadata": {},
   "outputs": [],
   "source": [
    "import pandas as pd\n",
    "import numpy as np"
   ]
  },
  {
   "cell_type": "markdown",
   "metadata": {},
   "source": [
    "#### Read Data"
   ]
  },
  {
   "cell_type": "code",
   "execution_count": 28,
   "metadata": {},
   "outputs": [
    {
     "data": {
      "text/plain": [
       "(205, 12601)"
      ]
     },
     "execution_count": 28,
     "metadata": {},
     "output_type": "execute_result"
    }
   ],
   "source": [
    "df = pd.read_csv('D:\\FirstSemMT\\ML\\Assignments\\lung.tab',sep='\\t', low_memory=False)\n",
    "df.shape"
   ]
  },
  {
   "cell_type": "code",
   "execution_count": 29,
   "metadata": {},
   "outputs": [
    {
     "data": {
      "text/html": [
       "<div>\n",
       "<style scoped>\n",
       "    .dataframe tbody tr th:only-of-type {\n",
       "        vertical-align: middle;\n",
       "    }\n",
       "\n",
       "    .dataframe tbody tr th {\n",
       "        vertical-align: top;\n",
       "    }\n",
       "\n",
       "    .dataframe thead th {\n",
       "        text-align: right;\n",
       "    }\n",
       "</style>\n",
       "<table border=\"1\" class=\"dataframe\">\n",
       "  <thead>\n",
       "    <tr style=\"text-align: right;\">\n",
       "      <th></th>\n",
       "      <th>class</th>\n",
       "      <th>38691_s_at</th>\n",
       "      <th>37864_s_at</th>\n",
       "      <th>33273_f_at</th>\n",
       "      <th>33274_f_at</th>\n",
       "      <th>33501_r_at</th>\n",
       "      <th>33500_i_at</th>\n",
       "      <th>33499_s_at</th>\n",
       "      <th>41164_at</th>\n",
       "      <th>38194_s_at</th>\n",
       "      <th>...</th>\n",
       "      <th>41848_f_at</th>\n",
       "      <th>32086_at</th>\n",
       "      <th>33886_at</th>\n",
       "      <th>31781_at</th>\n",
       "      <th>AFFX-BioC-3_at</th>\n",
       "      <th>41422_at</th>\n",
       "      <th>39964_at</th>\n",
       "      <th>36120_at</th>\n",
       "      <th>40571_at</th>\n",
       "      <th>36312_at</th>\n",
       "    </tr>\n",
       "  </thead>\n",
       "  <tbody>\n",
       "    <tr>\n",
       "      <th>0</th>\n",
       "      <td>discrete</td>\n",
       "      <td>continuous</td>\n",
       "      <td>continuous</td>\n",
       "      <td>continuous</td>\n",
       "      <td>continuous</td>\n",
       "      <td>continuous</td>\n",
       "      <td>continuous</td>\n",
       "      <td>continuous</td>\n",
       "      <td>continuous</td>\n",
       "      <td>continuous</td>\n",
       "      <td>...</td>\n",
       "      <td>continuous</td>\n",
       "      <td>continuous</td>\n",
       "      <td>continuous</td>\n",
       "      <td>continuous</td>\n",
       "      <td>continuous</td>\n",
       "      <td>continuous</td>\n",
       "      <td>continuous</td>\n",
       "      <td>continuous</td>\n",
       "      <td>continuous</td>\n",
       "      <td>continuous</td>\n",
       "    </tr>\n",
       "    <tr>\n",
       "      <th>1</th>\n",
       "      <td>class</td>\n",
       "      <td>NaN</td>\n",
       "      <td>NaN</td>\n",
       "      <td>NaN</td>\n",
       "      <td>NaN</td>\n",
       "      <td>NaN</td>\n",
       "      <td>NaN</td>\n",
       "      <td>NaN</td>\n",
       "      <td>NaN</td>\n",
       "      <td>NaN</td>\n",
       "      <td>...</td>\n",
       "      <td>NaN</td>\n",
       "      <td>NaN</td>\n",
       "      <td>NaN</td>\n",
       "      <td>NaN</td>\n",
       "      <td>NaN</td>\n",
       "      <td>NaN</td>\n",
       "      <td>NaN</td>\n",
       "      <td>NaN</td>\n",
       "      <td>NaN</td>\n",
       "      <td>NaN</td>\n",
       "    </tr>\n",
       "    <tr>\n",
       "      <th>2</th>\n",
       "      <td>AD</td>\n",
       "      <td>63.2</td>\n",
       "      <td>4196.25</td>\n",
       "      <td>3306.35</td>\n",
       "      <td>3330.86</td>\n",
       "      <td>1609.47</td>\n",
       "      <td>1597.32</td>\n",
       "      <td>1233.89</td>\n",
       "      <td>255.14</td>\n",
       "      <td>3036.53</td>\n",
       "      <td>...</td>\n",
       "      <td>-17.79</td>\n",
       "      <td>18.63</td>\n",
       "      <td>51.04</td>\n",
       "      <td>-13.74</td>\n",
       "      <td>-29.12</td>\n",
       "      <td>-28.31</td>\n",
       "      <td>20.25</td>\n",
       "      <td>28.35</td>\n",
       "      <td>4.06</td>\n",
       "      <td>-19.41</td>\n",
       "    </tr>\n",
       "    <tr>\n",
       "      <th>3</th>\n",
       "      <td>AD</td>\n",
       "      <td>965.47</td>\n",
       "      <td>6207.61</td>\n",
       "      <td>7077.04</td>\n",
       "      <td>6968.59</td>\n",
       "      <td>6569.86</td>\n",
       "      <td>6419.19</td>\n",
       "      <td>6908.34</td>\n",
       "      <td>4785.76</td>\n",
       "      <td>4562.19</td>\n",
       "      <td>...</td>\n",
       "      <td>-5.74</td>\n",
       "      <td>5.94</td>\n",
       "      <td>28.23</td>\n",
       "      <td>-4.68</td>\n",
       "      <td>-13.18</td>\n",
       "      <td>-13.18</td>\n",
       "      <td>21.86</td>\n",
       "      <td>9.12</td>\n",
       "      <td>11.24</td>\n",
       "      <td>8.06</td>\n",
       "    </tr>\n",
       "    <tr>\n",
       "      <th>4</th>\n",
       "      <td>AD</td>\n",
       "      <td>2940.51</td>\n",
       "      <td>6858.12</td>\n",
       "      <td>6927.79</td>\n",
       "      <td>6495.99</td>\n",
       "      <td>5273.47</td>\n",
       "      <td>4672.48</td>\n",
       "      <td>5474.67</td>\n",
       "      <td>2140.99</td>\n",
       "      <td>5120.39</td>\n",
       "      <td>...</td>\n",
       "      <td>-17.225</td>\n",
       "      <td>4.725</td>\n",
       "      <td>17.28</td>\n",
       "      <td>-6.59</td>\n",
       "      <td>-17.97</td>\n",
       "      <td>-16.07</td>\n",
       "      <td>10.195</td>\n",
       "      <td>17.285</td>\n",
       "      <td>6.92</td>\n",
       "      <td>-11.09</td>\n",
       "    </tr>\n",
       "  </tbody>\n",
       "</table>\n",
       "<p>5 rows × 12601 columns</p>\n",
       "</div>"
      ],
      "text/plain": [
       "     class  38691_s_at  37864_s_at  33273_f_at  33274_f_at  33501_r_at   \\\n",
       "0  discrete  continuous  continuous  continuous  continuous  continuous   \n",
       "1     class         NaN         NaN         NaN         NaN         NaN   \n",
       "2       AD        63.2     4196.25     3306.35     3330.86     1609.47    \n",
       "3       AD      965.47     6207.61     7077.04     6968.59     6569.86    \n",
       "4       AD     2940.51     6858.12     6927.79     6495.99     5273.47    \n",
       "\n",
       "  33500_i_at  33499_s_at    41164_at  38194_s_at   ... 41848_f_at   \\\n",
       "0  continuous  continuous  continuous  continuous  ...  continuous   \n",
       "1         NaN         NaN         NaN         NaN  ...         NaN   \n",
       "2    1597.32     1233.89      255.14     3036.53   ...     -17.79    \n",
       "3    6419.19     6908.34     4785.76     4562.19   ...      -5.74    \n",
       "4    4672.48     5474.67     2140.99     5120.39   ...    -17.225    \n",
       "\n",
       "    32086_at    33886_at    31781_at  AFFX-BioC-3_at    41422_at    39964_at   \\\n",
       "0  continuous  continuous  continuous      continuous  continuous  continuous   \n",
       "1         NaN         NaN         NaN             NaN         NaN         NaN   \n",
       "2      18.63       51.04      -13.74          -29.12      -28.31       20.25    \n",
       "3       5.94       28.23       -4.68          -13.18      -13.18       21.86    \n",
       "4      4.725       17.28       -6.59          -17.97      -16.07      10.195    \n",
       "\n",
       "    36120_at    40571_at    36312_at   \n",
       "0  continuous  continuous  continuous  \n",
       "1         NaN         NaN         NaN  \n",
       "2      28.35        4.06      -19.41   \n",
       "3       9.12       11.24        8.06   \n",
       "4     17.285        6.92      -11.09   \n",
       "\n",
       "[5 rows x 12601 columns]"
      ]
     },
     "execution_count": 29,
     "metadata": {},
     "output_type": "execute_result"
    }
   ],
   "source": [
    "df.head()"
   ]
  },
  {
   "cell_type": "code",
   "execution_count": 30,
   "metadata": {
    "scrolled": false
   },
   "outputs": [
    {
     "name": "stdout",
     "output_type": "stream",
     "text": [
      "203 12600\n"
     ]
    }
   ],
   "source": [
    "df.drop(df.index[df[df.columns[0]] == 'discrete'], inplace = True)\n",
    "df.drop(df.index[df[df.columns[0]] == 'class'], inplace = True)\n",
    "label = df[df.columns[0]] \n",
    "df.drop([df.columns[0]], axis = 1, inplace = True)\n",
    "df = df.values\n",
    "samples,features = df.shape\n",
    "print(samples,features)"
   ]
  },
  {
   "cell_type": "code",
   "execution_count": 31,
   "metadata": {
    "scrolled": true
   },
   "outputs": [
    {
     "data": {
      "text/plain": [
       "(203, 12600)"
      ]
     },
     "execution_count": 31,
     "metadata": {},
     "output_type": "execute_result"
    }
   ],
   "source": [
    "data = df.astype(np.float)\n",
    "data.shape"
   ]
  },
  {
   "cell_type": "markdown",
   "metadata": {},
   "source": [
    "#### Import train_test_split function and Split dataset into training set and test set"
   ]
  },
  {
   "cell_type": "code",
   "execution_count": 32,
   "metadata": {},
   "outputs": [],
   "source": [
    "from sklearn.model_selection import train_test_split\n",
    "X_train, X_test, y_train, y_test = train_test_split(data, label, test_size=0.2,random_state=100) "
   ]
  },
  {
   "cell_type": "markdown",
   "metadata": {},
   "source": [
    "#### Find T score for every feature "
   ]
  },
  {
   "cell_type": "code",
   "execution_count": 33,
   "metadata": {},
   "outputs": [
    {
     "data": {
      "text/plain": [
       "array([9.83132247, 8.25870955, 8.79932101, ..., 5.10867731, 2.98815196,\n",
       "       2.58307433])"
      ]
     },
     "execution_count": 33,
     "metadata": {},
     "output_type": "execute_result"
    }
   ],
   "source": [
    "#classes\n",
    "c1 = np.where(y_train=='AD ')[0]\n",
    "c2 = np.where(y_train=='NL ')[0]\n",
    "c3 = np.where(y_train=='SMCL ')[0]\n",
    "c4 = np.where(y_train=='SQ ')[0]\n",
    "c5 = np.where(y_train=='COID ')[0]\n",
    "\n",
    "#mean of every class \n",
    "m1 = X_train[c1,:].mean(axis=0)\n",
    "m2 = X_train[c2,:].mean(axis=0)\n",
    "m3 = X_train[c3,:].mean(axis=0)\n",
    "m4 = X_train[c4,:].mean(axis=0)\n",
    "m5 = X_train[c5,:].mean(axis=0)\n",
    "m = X_train.mean(axis=0)\n",
    "\n",
    "#variance of every class \n",
    "v1 = X_train[c1,:].var(axis=0)*(c1.shape[0]-1)\n",
    "v2 = X_train[c2,:].var(axis=0)*(c2.shape[0]-1)\n",
    "v3 = X_train[c3,:].var(axis=0)*(c3.shape[0]-1)\n",
    "v4 = X_train[c4,:].var(axis=0)*(c4.shape[0]-1)\n",
    "v5 = X_train[c5,:].var(axis=0)*(c5.shape[0]-1)\n",
    "s = np.sqrt((v1+v2+v3+v4+v5)/(samples-5))\n",
    "\n",
    "t1 = np.abs(m1-m)/(np.sqrt((1/c1.shape[0])+(1/samples))*s)\n",
    "t2 = np.abs(m2-m)/(np.sqrt((1/c2.shape[0])+(1/samples))*s)\n",
    "t3 = np.abs(m3-m)/(np.sqrt((1/c3.shape[0])+(1/samples))*s)\n",
    "t4 = np.abs(m4-m)/(np.sqrt((1/c4.shape[0])+(1/samples))*s)\n",
    "t5 = np.abs(m5-m)/(np.sqrt((1/c5.shape[0])+(1/samples))*s)\n",
    "\n",
    "tscore = np.maximum.reduce([t1,t2,t3,t4,t5])\n",
    "tscore"
   ]
  },
  {
   "cell_type": "markdown",
   "metadata": {},
   "source": [
    "#### Sort indexes in descending order of T score"
   ]
  },
  {
   "cell_type": "code",
   "execution_count": 34,
   "metadata": {},
   "outputs": [
    {
     "data": {
      "text/plain": [
       "array([ 771,  307, 1354, ..., 5840, 6196,  330], dtype=int64)"
      ]
     },
     "execution_count": 34,
     "metadata": {},
     "output_type": "execute_result"
    }
   ],
   "source": [
    "sort_idxs=(-tscore).argsort()[:tscore.shape[0]]\n",
    "sort_idxs"
   ]
  },
  {
   "cell_type": "markdown",
   "metadata": {},
   "source": [
    "#### Select top features (less than 20%)"
   ]
  },
  {
   "cell_type": "code",
   "execution_count": 35,
   "metadata": {
    "scrolled": true
   },
   "outputs": [
    {
     "data": {
      "text/plain": [
       "array([ 771,  307, 1354, ..., 4335, 4253, 3405], dtype=int64)"
      ]
     },
     "execution_count": 35,
     "metadata": {},
     "output_type": "execute_result"
    }
   ],
   "source": [
    "filt_idxs = sort_idxs[0:int((data.shape[1])*0.2)]\n",
    "filt_idxs"
   ]
  },
  {
   "cell_type": "code",
   "execution_count": 36,
   "metadata": {},
   "outputs": [
    {
     "data": {
      "text/plain": [
       "(162, 2520)"
      ]
     },
     "execution_count": 36,
     "metadata": {},
     "output_type": "execute_result"
    }
   ],
   "source": [
    "X_new_train = X_train[:,filt_idxs]\n",
    "X_new_test = X_test[:,filt_idxs]\n",
    "X_new_train.shape"
   ]
  },
  {
   "cell_type": "markdown",
   "metadata": {},
   "source": [
    "#### KNN Classification"
   ]
  },
  {
   "cell_type": "code",
   "execution_count": 37,
   "metadata": {},
   "outputs": [],
   "source": [
    "from sklearn.neighbors import KNeighborsClassifier\n",
    "from sklearn import metrics\n",
    "knn = KNeighborsClassifier(n_neighbors=5)\n",
    "knn.fit(X_new_train, y_train)\n",
    "y_pred = knn.predict(X_new_test)"
   ]
  },
  {
   "cell_type": "markdown",
   "metadata": {},
   "source": [
    "#### Accuracy, F score and Confusion matrix using KNN"
   ]
  },
  {
   "cell_type": "code",
   "execution_count": 38,
   "metadata": {},
   "outputs": [
    {
     "name": "stdout",
     "output_type": "stream",
     "text": [
      "Accuracy: 0.8048780487804879\n",
      "f1 score: 0.6933333333333334\n",
      "confusion matrix: [[26  0  0  0  0]\n",
      " [ 0  3  0  0  0]\n",
      " [ 0  0  1  0  0]\n",
      " [ 4  0  0  0  0]\n",
      " [ 4  0  0  0  3]]\n"
     ]
    }
   ],
   "source": [
    "print(\"Accuracy:\",metrics.accuracy_score(y_test, y_pred))\n",
    "print(\"f1 score:\",metrics.f1_score(y_test, y_pred, average=\"macro\"))\n",
    "print(\"confusion matrix:\",metrics.confusion_matrix(y_test, y_pred))"
   ]
  },
  {
   "cell_type": "markdown",
   "metadata": {},
   "source": [
    "#### SNM Classification"
   ]
  },
  {
   "cell_type": "code",
   "execution_count": 39,
   "metadata": {},
   "outputs": [],
   "source": [
    "from sklearn import svm\n",
    "clf = svm.SVC(kernel='linear')\n",
    "clf.fit(X_new_train, y_train)\n",
    "y_pred = clf.predict(X_new_test)"
   ]
  },
  {
   "cell_type": "markdown",
   "metadata": {},
   "source": [
    "#### Accuracy, F score and Confusion matrix using SVM"
   ]
  },
  {
   "cell_type": "code",
   "execution_count": 40,
   "metadata": {},
   "outputs": [
    {
     "name": "stdout",
     "output_type": "stream",
     "text": [
      "Accuracy: 0.8048780487804879\n",
      "f1 score: 0.7142857142857143\n",
      "confusion matrix: [[24  0  0  0  2]\n",
      " [ 0  3  0  0  0]\n",
      " [ 0  0  1  0  0]\n",
      " [ 4  0  0  0  0]\n",
      " [ 2  0  0  0  5]]\n"
     ]
    }
   ],
   "source": [
    "print(\"Accuracy:\",metrics.accuracy_score(y_test, y_pred))\n",
    "print(\"f1 score:\",metrics.f1_score(y_test, y_pred, average=\"macro\"))\n",
    "print(\"confusion matrix:\",metrics.confusion_matrix(y_test, y_pred))"
   ]
  },
  {
   "cell_type": "code",
   "execution_count": null,
   "metadata": {},
   "outputs": [],
   "source": []
  }
 ],
 "metadata": {
  "kernelspec": {
   "display_name": "Python 3",
   "language": "python",
   "name": "python3"
  },
  "language_info": {
   "codemirror_mode": {
    "name": "ipython",
    "version": 3
   },
   "file_extension": ".py",
   "mimetype": "text/x-python",
   "name": "python",
   "nbconvert_exporter": "python",
   "pygments_lexer": "ipython3",
   "version": "3.7.6"
  }
 },
 "nbformat": 4,
 "nbformat_minor": 4
}
