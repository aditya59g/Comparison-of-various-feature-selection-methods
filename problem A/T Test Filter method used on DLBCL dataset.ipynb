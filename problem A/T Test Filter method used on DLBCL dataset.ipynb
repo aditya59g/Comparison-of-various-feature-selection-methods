{
 "cells": [
  {
   "cell_type": "code",
   "execution_count": 20,
   "metadata": {},
   "outputs": [],
   "source": [
    "import pandas as pd\n",
    "import numpy as np"
   ]
  },
  {
   "cell_type": "markdown",
   "metadata": {},
   "source": [
    "#### Read Data"
   ]
  },
  {
   "cell_type": "code",
   "execution_count": 21,
   "metadata": {},
   "outputs": [
    {
     "data": {
      "text/plain": [
       "(79, 7071)"
      ]
     },
     "execution_count": 21,
     "metadata": {},
     "output_type": "execute_result"
    }
   ],
   "source": [
    "df = pd.read_csv('D:\\FirstSemMT\\ML\\Assignments\\DLBCL.tab',sep='\\t')\n",
    "df.shape"
   ]
  },
  {
   "cell_type": "code",
   "execution_count": 22,
   "metadata": {},
   "outputs": [
    {
     "data": {
      "text/html": [
       "<div>\n",
       "<style scoped>\n",
       "    .dataframe tbody tr th:only-of-type {\n",
       "        vertical-align: middle;\n",
       "    }\n",
       "\n",
       "    .dataframe tbody tr th {\n",
       "        vertical-align: top;\n",
       "    }\n",
       "\n",
       "    .dataframe thead th {\n",
       "        text-align: right;\n",
       "    }\n",
       "</style>\n",
       "<table border=\"1\" class=\"dataframe\">\n",
       "  <thead>\n",
       "    <tr style=\"text-align: right;\">\n",
       "      <th></th>\n",
       "      <th>A28102</th>\n",
       "      <th>AB000114_at</th>\n",
       "      <th>AB000115_at</th>\n",
       "      <th>AB000220_at</th>\n",
       "      <th>AB000409_at</th>\n",
       "      <th>AB000449_at</th>\n",
       "      <th>AB000450_at</th>\n",
       "      <th>AB000460_at</th>\n",
       "      <th>AB000462_at</th>\n",
       "      <th>AB000464_at</th>\n",
       "      <th>...</th>\n",
       "      <th>U58516_at</th>\n",
       "      <th>U73738_at</th>\n",
       "      <th>X06956_at</th>\n",
       "      <th>X16699_at</th>\n",
       "      <th>X83863_at</th>\n",
       "      <th>Z17240_at</th>\n",
       "      <th>L49218_f_at</th>\n",
       "      <th>M71243_f_at</th>\n",
       "      <th>Z78285_f_at</th>\n",
       "      <th>class</th>\n",
       "    </tr>\n",
       "  </thead>\n",
       "  <tbody>\n",
       "    <tr>\n",
       "      <th>0</th>\n",
       "      <td>continuous</td>\n",
       "      <td>continuous</td>\n",
       "      <td>continuous</td>\n",
       "      <td>continuous</td>\n",
       "      <td>continuous</td>\n",
       "      <td>continuous</td>\n",
       "      <td>continuous</td>\n",
       "      <td>continuous</td>\n",
       "      <td>continuous</td>\n",
       "      <td>continuous</td>\n",
       "      <td>...</td>\n",
       "      <td>continuous</td>\n",
       "      <td>continuous</td>\n",
       "      <td>continuous</td>\n",
       "      <td>continuous</td>\n",
       "      <td>continuous</td>\n",
       "      <td>continuous</td>\n",
       "      <td>continuous</td>\n",
       "      <td>continuous</td>\n",
       "      <td>continuous</td>\n",
       "      <td>DLBCL FL</td>\n",
       "    </tr>\n",
       "    <tr>\n",
       "      <th>1</th>\n",
       "      <td>NaN</td>\n",
       "      <td>NaN</td>\n",
       "      <td>NaN</td>\n",
       "      <td>NaN</td>\n",
       "      <td>NaN</td>\n",
       "      <td>NaN</td>\n",
       "      <td>NaN</td>\n",
       "      <td>NaN</td>\n",
       "      <td>NaN</td>\n",
       "      <td>NaN</td>\n",
       "      <td>...</td>\n",
       "      <td>NaN</td>\n",
       "      <td>NaN</td>\n",
       "      <td>NaN</td>\n",
       "      <td>NaN</td>\n",
       "      <td>NaN</td>\n",
       "      <td>NaN</td>\n",
       "      <td>NaN</td>\n",
       "      <td>NaN</td>\n",
       "      <td>NaN</td>\n",
       "      <td>class</td>\n",
       "    </tr>\n",
       "    <tr>\n",
       "      <th>2</th>\n",
       "      <td>-1</td>\n",
       "      <td>-45</td>\n",
       "      <td>176</td>\n",
       "      <td>97</td>\n",
       "      <td>-57</td>\n",
       "      <td>233</td>\n",
       "      <td>265</td>\n",
       "      <td>945</td>\n",
       "      <td>56</td>\n",
       "      <td>819</td>\n",
       "      <td>...</td>\n",
       "      <td>1036</td>\n",
       "      <td>-161</td>\n",
       "      <td>1523</td>\n",
       "      <td>-72</td>\n",
       "      <td>897</td>\n",
       "      <td>366</td>\n",
       "      <td>3</td>\n",
       "      <td>76</td>\n",
       "      <td>-28</td>\n",
       "      <td>DLBCL</td>\n",
       "    </tr>\n",
       "    <tr>\n",
       "      <th>3</th>\n",
       "      <td>25</td>\n",
       "      <td>-17</td>\n",
       "      <td>531</td>\n",
       "      <td>353</td>\n",
       "      <td>122</td>\n",
       "      <td>155</td>\n",
       "      <td>209</td>\n",
       "      <td>1688</td>\n",
       "      <td>42</td>\n",
       "      <td>639</td>\n",
       "      <td>...</td>\n",
       "      <td>4254</td>\n",
       "      <td>-75</td>\n",
       "      <td>6056</td>\n",
       "      <td>-68</td>\n",
       "      <td>737</td>\n",
       "      <td>81</td>\n",
       "      <td>-4</td>\n",
       "      <td>41</td>\n",
       "      <td>-45</td>\n",
       "      <td>DLBCL</td>\n",
       "    </tr>\n",
       "    <tr>\n",
       "      <th>4</th>\n",
       "      <td>73</td>\n",
       "      <td>91</td>\n",
       "      <td>257</td>\n",
       "      <td>80</td>\n",
       "      <td>614</td>\n",
       "      <td>507</td>\n",
       "      <td>760</td>\n",
       "      <td>2252</td>\n",
       "      <td>196</td>\n",
       "      <td>863</td>\n",
       "      <td>...</td>\n",
       "      <td>1934</td>\n",
       "      <td>-129</td>\n",
       "      <td>2901</td>\n",
       "      <td>-9</td>\n",
       "      <td>946</td>\n",
       "      <td>450</td>\n",
       "      <td>38</td>\n",
       "      <td>164</td>\n",
       "      <td>-62</td>\n",
       "      <td>DLBCL</td>\n",
       "    </tr>\n",
       "  </tbody>\n",
       "</table>\n",
       "<p>5 rows × 7071 columns</p>\n",
       "</div>"
      ],
      "text/plain": [
       "       A28102 AB000114_at AB000115_at AB000220_at AB000409_at AB000449_at  \\\n",
       "0  continuous  continuous  continuous  continuous  continuous  continuous   \n",
       "1         NaN         NaN         NaN         NaN         NaN         NaN   \n",
       "2          -1         -45         176          97         -57         233   \n",
       "3          25         -17         531         353         122         155   \n",
       "4          73          91         257          80         614         507   \n",
       "\n",
       "  AB000450_at AB000460_at AB000462_at AB000464_at  ...   U58516_at  \\\n",
       "0  continuous  continuous  continuous  continuous  ...  continuous   \n",
       "1         NaN         NaN         NaN         NaN  ...         NaN   \n",
       "2         265         945          56         819  ...        1036   \n",
       "3         209        1688          42         639  ...        4254   \n",
       "4         760        2252         196         863  ...        1934   \n",
       "\n",
       "    U73738_at   X06956_at   X16699_at   X83863_at   Z17240_at L49218_f_at  \\\n",
       "0  continuous  continuous  continuous  continuous  continuous  continuous   \n",
       "1         NaN         NaN         NaN         NaN         NaN         NaN   \n",
       "2        -161        1523         -72         897         366           3   \n",
       "3         -75        6056         -68         737          81          -4   \n",
       "4        -129        2901          -9         946         450          38   \n",
       "\n",
       "  M71243_f_at Z78285_f_at     class  \n",
       "0  continuous  continuous  DLBCL FL  \n",
       "1         NaN         NaN     class  \n",
       "2          76         -28     DLBCL  \n",
       "3          41         -45     DLBCL  \n",
       "4         164         -62     DLBCL  \n",
       "\n",
       "[5 rows x 7071 columns]"
      ]
     },
     "execution_count": 22,
     "metadata": {},
     "output_type": "execute_result"
    }
   ],
   "source": [
    "df.head()"
   ]
  },
  {
   "cell_type": "code",
   "execution_count": 23,
   "metadata": {
    "scrolled": false
   },
   "outputs": [
    {
     "name": "stdout",
     "output_type": "stream",
     "text": [
      "77 7070\n"
     ]
    }
   ],
   "source": [
    "df.drop(df.index[df['class'] == 'DLBCL FL'], inplace = True)\n",
    "df.drop(df.index[df['class'] == 'class'], inplace = True)\n",
    "label = df['class'] \n",
    "df.drop(['class'], axis = 1, inplace = True)\n",
    "df = df.values\n",
    "samples,features = df.shape\n",
    "print(samples,features)"
   ]
  },
  {
   "cell_type": "code",
   "execution_count": 24,
   "metadata": {
    "scrolled": true
   },
   "outputs": [
    {
     "data": {
      "text/plain": [
       "(77, 7070)"
      ]
     },
     "execution_count": 24,
     "metadata": {},
     "output_type": "execute_result"
    }
   ],
   "source": [
    "data = df.astype(np.float)\n",
    "data.shape"
   ]
  },
  {
   "cell_type": "markdown",
   "metadata": {},
   "source": [
    "#### Import train_test_split function and Split dataset into training set and test set"
   ]
  },
  {
   "cell_type": "code",
   "execution_count": 25,
   "metadata": {},
   "outputs": [],
   "source": [
    "from sklearn.model_selection import train_test_split\n",
    "X_train, X_test, y_train, y_test = train_test_split(data, label, test_size=0.2,random_state=10) "
   ]
  },
  {
   "cell_type": "markdown",
   "metadata": {},
   "source": [
    "#### Find T score for every feature "
   ]
  },
  {
   "cell_type": "code",
   "execution_count": 26,
   "metadata": {},
   "outputs": [
    {
     "data": {
      "text/plain": [
       "array([1.02319343, 0.66813182, 0.84204914, ..., 0.1229621 , 0.93524061,\n",
       "       0.25709049])"
      ]
     },
     "execution_count": 26,
     "metadata": {},
     "output_type": "execute_result"
    }
   ],
   "source": [
    "c1 = np.where(y_train=='DLBCL')[0]\n",
    "c2 = np.where(y_train=='FL')[0]\n",
    "m1 = X_train[c1,:].mean(axis=0)\n",
    "m2 = X_train[c2,:].mean(axis=0)\n",
    "v1 = X_train[c1,:].var(axis=0)\n",
    "v2 = X_train[c2,:].var(axis=0)\n",
    "tscore = np.abs(m1-m2)/np.sqrt(v1/c1.shape[0] + v2/c2.shape[0])\n",
    "tscore"
   ]
  },
  {
   "cell_type": "markdown",
   "metadata": {},
   "source": [
    "#### Sort indexes in descending order of T score"
   ]
  },
  {
   "cell_type": "code",
   "execution_count": 27,
   "metadata": {},
   "outputs": [
    {
     "data": {
      "text/plain": [
       "array([3968, 6119, 4232, ..., 4935, 1775, 6997], dtype=int64)"
      ]
     },
     "execution_count": 27,
     "metadata": {},
     "output_type": "execute_result"
    }
   ],
   "source": [
    "sort_idxs=(-tscore).argsort()[:tscore.shape[0]]\n",
    "sort_idxs"
   ]
  },
  {
   "cell_type": "markdown",
   "metadata": {},
   "source": [
    "#### Select top features (less than 20%)"
   ]
  },
  {
   "cell_type": "code",
   "execution_count": 28,
   "metadata": {
    "scrolled": true
   },
   "outputs": [
    {
     "data": {
      "text/plain": [
       "array([3968, 6119, 4232, ..., 2607, 1236, 1105], dtype=int64)"
      ]
     },
     "execution_count": 28,
     "metadata": {},
     "output_type": "execute_result"
    }
   ],
   "source": [
    "filt_idxs = sort_idxs[0:int((data.shape[1])*0.2)]\n",
    "filt_idxs"
   ]
  },
  {
   "cell_type": "code",
   "execution_count": 29,
   "metadata": {},
   "outputs": [
    {
     "data": {
      "text/plain": [
       "(61, 1414)"
      ]
     },
     "execution_count": 29,
     "metadata": {},
     "output_type": "execute_result"
    }
   ],
   "source": [
    "X_new_train = X_train[:,filt_idxs]\n",
    "X_new_test = X_test[:,filt_idxs]\n",
    "X_new_train.shape"
   ]
  },
  {
   "cell_type": "markdown",
   "metadata": {},
   "source": [
    "#### KNN Classification"
   ]
  },
  {
   "cell_type": "code",
   "execution_count": 30,
   "metadata": {},
   "outputs": [],
   "source": [
    "from sklearn.neighbors import KNeighborsClassifier\n",
    "from sklearn import metrics\n",
    "knn = KNeighborsClassifier(n_neighbors=3)\n",
    "knn.fit(X_new_train, y_train)\n",
    "y_pred = knn.predict(X_new_test)"
   ]
  },
  {
   "cell_type": "markdown",
   "metadata": {},
   "source": [
    "#### Accuracy, F score and Confusion matrix using KNN"
   ]
  },
  {
   "cell_type": "code",
   "execution_count": 31,
   "metadata": {},
   "outputs": [
    {
     "name": "stdout",
     "output_type": "stream",
     "text": [
      "Accuracy: 0.8125\n",
      "f1 score: 0.7257142857142858\n",
      "confusion matrix: [[11  3]\n",
      " [ 0  2]]\n"
     ]
    }
   ],
   "source": [
    "print(\"Accuracy:\",metrics.accuracy_score(y_test, y_pred))\n",
    "print(\"f1 score:\",metrics.f1_score(y_test, y_pred, average=\"macro\"))\n",
    "print(\"confusion matrix:\",metrics.confusion_matrix(y_test, y_pred))"
   ]
  },
  {
   "cell_type": "markdown",
   "metadata": {},
   "source": [
    "#### SNM Classification"
   ]
  },
  {
   "cell_type": "code",
   "execution_count": 32,
   "metadata": {},
   "outputs": [],
   "source": [
    "from sklearn import svm\n",
    "clf = svm.SVC(kernel='linear')\n",
    "clf.fit(X_new_train, y_train)\n",
    "y_pred = clf.predict(X_new_test)"
   ]
  },
  {
   "cell_type": "markdown",
   "metadata": {},
   "source": [
    "#### Accuracy, F score and Confusion matrix using SVM"
   ]
  },
  {
   "cell_type": "code",
   "execution_count": 33,
   "metadata": {},
   "outputs": [
    {
     "name": "stdout",
     "output_type": "stream",
     "text": [
      "Accuracy: 1.0\n",
      "f1 score: 1.0\n",
      "confusion matrix: [[14  0]\n",
      " [ 0  2]]\n"
     ]
    }
   ],
   "source": [
    "print(\"Accuracy:\",metrics.accuracy_score(y_test, y_pred))\n",
    "print(\"f1 score:\",metrics.f1_score(y_test, y_pred, average=\"macro\"))\n",
    "print(\"confusion matrix:\",metrics.confusion_matrix(y_test, y_pred))"
   ]
  },
  {
   "cell_type": "code",
   "execution_count": null,
   "metadata": {},
   "outputs": [],
   "source": []
  }
 ],
 "metadata": {
  "kernelspec": {
   "display_name": "Python 3",
   "language": "python",
   "name": "python3"
  },
  "language_info": {
   "codemirror_mode": {
    "name": "ipython",
    "version": 3
   },
   "file_extension": ".py",
   "mimetype": "text/x-python",
   "name": "python",
   "nbconvert_exporter": "python",
   "pygments_lexer": "ipython3",
   "version": "3.7.6"
  }
 },
 "nbformat": 4,
 "nbformat_minor": 4
}
