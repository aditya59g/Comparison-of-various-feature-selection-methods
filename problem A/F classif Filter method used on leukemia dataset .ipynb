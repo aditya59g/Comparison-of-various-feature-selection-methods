{
 "cells": [
  {
   "cell_type": "code",
   "execution_count": 1,
   "metadata": {},
   "outputs": [],
   "source": [
    "import pandas as pd\n",
    "import numpy as np"
   ]
  },
  {
   "cell_type": "markdown",
   "metadata": {},
   "source": [
    "#### Read Data"
   ]
  },
  {
   "cell_type": "code",
   "execution_count": 2,
   "metadata": {},
   "outputs": [
    {
     "data": {
      "text/plain": [
       "(75, 5148)"
      ]
     },
     "execution_count": 2,
     "metadata": {},
     "output_type": "execute_result"
    }
   ],
   "source": [
    "df = pd.read_csv('D:\\FirstSemMT\\ML\\Assignments\\leukemia.tab',sep='\\t')\n",
    "df.shape"
   ]
  },
  {
   "cell_type": "code",
   "execution_count": 3,
   "metadata": {},
   "outputs": [
    {
     "data": {
      "text/html": [
       "<div>\n",
       "<style scoped>\n",
       "    .dataframe tbody tr th:only-of-type {\n",
       "        vertical-align: middle;\n",
       "    }\n",
       "\n",
       "    .dataframe tbody tr th {\n",
       "        vertical-align: top;\n",
       "    }\n",
       "\n",
       "    .dataframe thead th {\n",
       "        text-align: right;\n",
       "    }\n",
       "</style>\n",
       "<table border=\"1\" class=\"dataframe\">\n",
       "  <thead>\n",
       "    <tr style=\"text-align: right;\">\n",
       "      <th></th>\n",
       "      <th>gene</th>\n",
       "      <th>AFFX-BioC-5_at</th>\n",
       "      <th>hum_alu_at</th>\n",
       "      <th>AFFX-DapX-M_at</th>\n",
       "      <th>AFFX-LysX-5_at</th>\n",
       "      <th>AFFX-HUMISGF3A/M97935_MA_at</th>\n",
       "      <th>AFFX-HUMISGF3A/M97935_MB_at</th>\n",
       "      <th>AFFX-HUMISGF3A/M97935_3_at</th>\n",
       "      <th>AFFX-HUMRGE/M10098_5_at</th>\n",
       "      <th>AFFX-HUMRGE/M10098_M_at</th>\n",
       "      <th>...</th>\n",
       "      <th>M93143_at</th>\n",
       "      <th>U29175_at</th>\n",
       "      <th>U48730_at</th>\n",
       "      <th>U58516_at</th>\n",
       "      <th>X06956_at</th>\n",
       "      <th>X83863_at</th>\n",
       "      <th>Z17240_at</th>\n",
       "      <th>L49218_f_at</th>\n",
       "      <th>M71243_f_at</th>\n",
       "      <th>Z78285_f_at</th>\n",
       "    </tr>\n",
       "  </thead>\n",
       "  <tbody>\n",
       "    <tr>\n",
       "      <th>0</th>\n",
       "      <td>discrete</td>\n",
       "      <td>continuous</td>\n",
       "      <td>continuous</td>\n",
       "      <td>continuous</td>\n",
       "      <td>continuous</td>\n",
       "      <td>continuous</td>\n",
       "      <td>continuous</td>\n",
       "      <td>continuous</td>\n",
       "      <td>continuous</td>\n",
       "      <td>continuous</td>\n",
       "      <td>...</td>\n",
       "      <td>continuous</td>\n",
       "      <td>continuous</td>\n",
       "      <td>continuous</td>\n",
       "      <td>continuous</td>\n",
       "      <td>continuous</td>\n",
       "      <td>continuous</td>\n",
       "      <td>continuous</td>\n",
       "      <td>continuous</td>\n",
       "      <td>continuous</td>\n",
       "      <td>continuous</td>\n",
       "    </tr>\n",
       "    <tr>\n",
       "      <th>1</th>\n",
       "      <td>class</td>\n",
       "      <td>NaN</td>\n",
       "      <td>NaN</td>\n",
       "      <td>NaN</td>\n",
       "      <td>NaN</td>\n",
       "      <td>NaN</td>\n",
       "      <td>NaN</td>\n",
       "      <td>NaN</td>\n",
       "      <td>NaN</td>\n",
       "      <td>NaN</td>\n",
       "      <td>...</td>\n",
       "      <td>NaN</td>\n",
       "      <td>NaN</td>\n",
       "      <td>NaN</td>\n",
       "      <td>NaN</td>\n",
       "      <td>NaN</td>\n",
       "      <td>NaN</td>\n",
       "      <td>NaN</td>\n",
       "      <td>NaN</td>\n",
       "      <td>NaN</td>\n",
       "      <td>NaN</td>\n",
       "    </tr>\n",
       "    <tr>\n",
       "      <th>2</th>\n",
       "      <td>ALL</td>\n",
       "      <td>88</td>\n",
       "      <td>15091</td>\n",
       "      <td>311</td>\n",
       "      <td>21</td>\n",
       "      <td>-13</td>\n",
       "      <td>215</td>\n",
       "      <td>797</td>\n",
       "      <td>14538</td>\n",
       "      <td>9738</td>\n",
       "      <td>...</td>\n",
       "      <td>384</td>\n",
       "      <td>1582</td>\n",
       "      <td>185</td>\n",
       "      <td>511</td>\n",
       "      <td>389</td>\n",
       "      <td>793</td>\n",
       "      <td>329</td>\n",
       "      <td>36</td>\n",
       "      <td>191</td>\n",
       "      <td>-37</td>\n",
       "    </tr>\n",
       "    <tr>\n",
       "      <th>3</th>\n",
       "      <td>ALL</td>\n",
       "      <td>283</td>\n",
       "      <td>11038</td>\n",
       "      <td>134</td>\n",
       "      <td>-21</td>\n",
       "      <td>-219</td>\n",
       "      <td>116</td>\n",
       "      <td>433</td>\n",
       "      <td>615</td>\n",
       "      <td>115</td>\n",
       "      <td>...</td>\n",
       "      <td>231</td>\n",
       "      <td>624</td>\n",
       "      <td>169</td>\n",
       "      <td>837</td>\n",
       "      <td>442</td>\n",
       "      <td>782</td>\n",
       "      <td>295</td>\n",
       "      <td>11</td>\n",
       "      <td>76</td>\n",
       "      <td>-14</td>\n",
       "    </tr>\n",
       "    <tr>\n",
       "      <th>4</th>\n",
       "      <td>ALL</td>\n",
       "      <td>309</td>\n",
       "      <td>16692</td>\n",
       "      <td>378</td>\n",
       "      <td>67</td>\n",
       "      <td>104</td>\n",
       "      <td>476</td>\n",
       "      <td>1474</td>\n",
       "      <td>5669</td>\n",
       "      <td>3272</td>\n",
       "      <td>...</td>\n",
       "      <td>720</td>\n",
       "      <td>753</td>\n",
       "      <td>315</td>\n",
       "      <td>1199</td>\n",
       "      <td>168</td>\n",
       "      <td>1138</td>\n",
       "      <td>777</td>\n",
       "      <td>41</td>\n",
       "      <td>228</td>\n",
       "      <td>-41</td>\n",
       "    </tr>\n",
       "  </tbody>\n",
       "</table>\n",
       "<p>5 rows × 5148 columns</p>\n",
       "</div>"
      ],
      "text/plain": [
       "       gene AFFX-BioC-5_at  hum_alu_at AFFX-DapX-M_at AFFX-LysX-5_at  \\\n",
       "0  discrete     continuous  continuous     continuous     continuous   \n",
       "1     class            NaN         NaN            NaN            NaN   \n",
       "2       ALL             88       15091            311             21   \n",
       "3       ALL            283       11038            134            -21   \n",
       "4       ALL            309       16692            378             67   \n",
       "\n",
       "  AFFX-HUMISGF3A/M97935_MA_at AFFX-HUMISGF3A/M97935_MB_at  \\\n",
       "0                  continuous                  continuous   \n",
       "1                         NaN                         NaN   \n",
       "2                         -13                         215   \n",
       "3                        -219                         116   \n",
       "4                         104                         476   \n",
       "\n",
       "  AFFX-HUMISGF3A/M97935_3_at AFFX-HUMRGE/M10098_5_at AFFX-HUMRGE/M10098_M_at  \\\n",
       "0                 continuous              continuous              continuous   \n",
       "1                        NaN                     NaN                     NaN   \n",
       "2                        797                   14538                    9738   \n",
       "3                        433                     615                     115   \n",
       "4                       1474                    5669                    3272   \n",
       "\n",
       "   ...   M93143_at   U29175_at   U48730_at   U58516_at   X06956_at  \\\n",
       "0  ...  continuous  continuous  continuous  continuous  continuous   \n",
       "1  ...         NaN         NaN         NaN         NaN         NaN   \n",
       "2  ...         384        1582         185         511         389   \n",
       "3  ...         231         624         169         837         442   \n",
       "4  ...         720         753         315        1199         168   \n",
       "\n",
       "    X83863_at   Z17240_at L49218_f_at M71243_f_at Z78285_f_at  \n",
       "0  continuous  continuous  continuous  continuous  continuous  \n",
       "1         NaN         NaN         NaN         NaN         NaN  \n",
       "2         793         329          36         191         -37  \n",
       "3         782         295          11          76         -14  \n",
       "4        1138         777          41         228         -41  \n",
       "\n",
       "[5 rows x 5148 columns]"
      ]
     },
     "execution_count": 3,
     "metadata": {},
     "output_type": "execute_result"
    }
   ],
   "source": [
    "df.head()"
   ]
  },
  {
   "cell_type": "code",
   "execution_count": 4,
   "metadata": {
    "scrolled": false
   },
   "outputs": [
    {
     "name": "stdout",
     "output_type": "stream",
     "text": [
      "72 5147\n"
     ]
    }
   ],
   "source": [
    "df.drop(df.index[df['gene'] == 'discrete'], inplace = True)\n",
    "df.drop(df.index[df['gene'] == 'class'], inplace = True)\n",
    "df.drop(df.index[72], inplace = True)\n",
    "label = df['gene'] \n",
    "df.drop(['gene'], axis = 1, inplace = True)\n",
    "df = df.values\n",
    "samples,features = df.shape\n",
    "print(samples,features)"
   ]
  },
  {
   "cell_type": "code",
   "execution_count": 5,
   "metadata": {
    "scrolled": true
   },
   "outputs": [
    {
     "data": {
      "text/plain": [
       "(72, 5147)"
      ]
     },
     "execution_count": 5,
     "metadata": {},
     "output_type": "execute_result"
    }
   ],
   "source": [
    "data = df.astype(np.float)\n",
    "data.shape"
   ]
  },
  {
   "cell_type": "markdown",
   "metadata": {},
   "source": [
    "#### Import train_test_split function and Split dataset into training set and test set"
   ]
  },
  {
   "cell_type": "code",
   "execution_count": 6,
   "metadata": {},
   "outputs": [],
   "source": [
    "from sklearn.model_selection import train_test_split\n",
    "X_train, X_test, y_train, y_test = train_test_split(data, label, test_size=0.2,random_state=100) "
   ]
  },
  {
   "cell_type": "markdown",
   "metadata": {},
   "source": [
    "#### Find f value for every feature "
   ]
  },
  {
   "cell_type": "code",
   "execution_count": 7,
   "metadata": {},
   "outputs": [],
   "source": [
    "total_class = 2\n",
    "\n",
    "#degree of freedom\n",
    "dof_between = total_class-1\n",
    "dof_within = data.shape[0]-total_class\n",
    "dof_total = dof_between+dof_within\n",
    "\n",
    "Dof_critical = 3.994  #for alpha=0.05"
   ]
  },
  {
   "cell_type": "code",
   "execution_count": 8,
   "metadata": {},
   "outputs": [
    {
     "name": "stdout",
     "output_type": "stream",
     "text": [
      "(5147,)\n",
      "(5147,)\n",
      "[7.42940943 3.59145593 0.96914148 ... 2.73153409 7.96942712 0.54250657]\n",
      "(1983,)\n"
     ]
    }
   ],
   "source": [
    "c1 = np.where(y_train=='ALL')[0]\n",
    "c2 = np.where(y_train=='AML')[0]\n",
    "\n",
    "#to calculate no. of samples in both the class\n",
    "c_dash1 = np.where(label=='ALL')[0]\n",
    "c_dash2 = np.where(label=='AML')[0]\n",
    "\n",
    "#mean of each class\n",
    "m1 = X_train[c1,:].mean(axis=0)\n",
    "m2 = X_train[c2,:].mean(axis=0)\n",
    "m_grand = X_train[:,:].mean(axis=0)\n",
    "\n",
    "#variance of each class\n",
    "v1 = X_train[c1,:].var(axis=0)\n",
    "v2 = X_train[c2,:].var(axis=0)\n",
    "\n",
    "ss_total = np.sum((X_train[:,:] - m_grand)**2, axis=0)\n",
    "print(ss_total.shape)\n",
    "\n",
    "ss_within = (c_dash1.shape[0]-1)*v1 + (c_dash2.shape[0]-1)*v2\n",
    "ss_between = ((c_dash1.shape[0])*(m1-m_grand)**2) + ((c_dash2.shape[0])*(m2-m_grand)**2)\n",
    "print(ss_between.shape)\n",
    "\n",
    "ms_between = ss_between/dof_between\n",
    "ms_within = ss_within/dof_within\n",
    "\n",
    "#f-stat\n",
    "f = ms_between/ms_within\n",
    "print(f)\n",
    "print(f[f>Dof_critical].shape)"
   ]
  },
  {
   "cell_type": "markdown",
   "metadata": {},
   "source": [
    "#### Sort indexes in descending order of f value"
   ]
  },
  {
   "cell_type": "code",
   "execution_count": 9,
   "metadata": {},
   "outputs": [
    {
     "data": {
      "text/plain": [
       "array([3544, 1269, 1374, ..., 4943, 2197, 1238], dtype=int64)"
      ]
     },
     "execution_count": 9,
     "metadata": {},
     "output_type": "execute_result"
    }
   ],
   "source": [
    "sort_idxs=(-f).argsort()[:f.shape[0]]\n",
    "sort_idxs"
   ]
  },
  {
   "cell_type": "markdown",
   "metadata": {},
   "source": [
    "#### Select top features (less than 20%)"
   ]
  },
  {
   "cell_type": "code",
   "execution_count": 10,
   "metadata": {
    "scrolled": true
   },
   "outputs": [
    {
     "data": {
      "text/plain": [
       "array([3544, 1269, 1374, ...,  471, 4130, 1366], dtype=int64)"
      ]
     },
     "execution_count": 10,
     "metadata": {},
     "output_type": "execute_result"
    }
   ],
   "source": [
    "filt_idxs = sort_idxs[0:int((data.shape[1])*0.2)]\n",
    "filt_idxs"
   ]
  },
  {
   "cell_type": "code",
   "execution_count": 11,
   "metadata": {},
   "outputs": [
    {
     "data": {
      "text/plain": [
       "(57, 1029)"
      ]
     },
     "execution_count": 11,
     "metadata": {},
     "output_type": "execute_result"
    }
   ],
   "source": [
    "X_new_train = X_train[:,filt_idxs]\n",
    "X_new_test = X_test[:,filt_idxs]\n",
    "X_new_train.shape"
   ]
  },
  {
   "cell_type": "markdown",
   "metadata": {},
   "source": [
    "#### KNN Classification"
   ]
  },
  {
   "cell_type": "code",
   "execution_count": 12,
   "metadata": {},
   "outputs": [],
   "source": [
    "from sklearn.neighbors import KNeighborsClassifier\n",
    "from sklearn import metrics\n",
    "knn = KNeighborsClassifier(n_neighbors=5)\n",
    "knn.fit(X_new_train, y_train)\n",
    "y_pred = knn.predict(X_new_test)"
   ]
  },
  {
   "cell_type": "markdown",
   "metadata": {},
   "source": [
    "#### Accuracy, F score and Confusion matrix using KNN"
   ]
  },
  {
   "cell_type": "code",
   "execution_count": 13,
   "metadata": {},
   "outputs": [
    {
     "name": "stdout",
     "output_type": "stream",
     "text": [
      "Accuracy: 0.8666666666666667\n",
      "f1 score: 0.8295454545454545\n",
      "confusion matrix: [[10  0]\n",
      " [ 2  3]]\n"
     ]
    }
   ],
   "source": [
    "print(\"Accuracy:\",metrics.accuracy_score(y_test, y_pred))\n",
    "print(\"f1 score:\",metrics.f1_score(y_test, y_pred, average=\"macro\"))\n",
    "print(\"confusion matrix:\",metrics.confusion_matrix(y_test, y_pred))"
   ]
  },
  {
   "cell_type": "markdown",
   "metadata": {},
   "source": [
    "#### SNM Classification"
   ]
  },
  {
   "cell_type": "code",
   "execution_count": 14,
   "metadata": {},
   "outputs": [],
   "source": [
    "from sklearn import svm\n",
    "clf = svm.SVC(kernel='linear')\n",
    "clf.fit(X_new_train, y_train)\n",
    "y_pred = clf.predict(X_new_test)"
   ]
  },
  {
   "cell_type": "markdown",
   "metadata": {},
   "source": [
    "#### Accuracy, F score and Confusion matrix using SVM"
   ]
  },
  {
   "cell_type": "code",
   "execution_count": 15,
   "metadata": {},
   "outputs": [
    {
     "name": "stdout",
     "output_type": "stream",
     "text": [
      "Accuracy: 1.0\n",
      "f1 score: 1.0\n",
      "confusion matrix: [[10  0]\n",
      " [ 0  5]]\n"
     ]
    }
   ],
   "source": [
    "print(\"Accuracy:\",metrics.accuracy_score(y_test, y_pred))\n",
    "print(\"f1 score:\",metrics.f1_score(y_test, y_pred, average=\"macro\"))\n",
    "print(\"confusion matrix:\",metrics.confusion_matrix(y_test, y_pred))"
   ]
  },
  {
   "cell_type": "code",
   "execution_count": null,
   "metadata": {},
   "outputs": [],
   "source": []
  },
  {
   "cell_type": "code",
   "execution_count": null,
   "metadata": {},
   "outputs": [],
   "source": []
  }
 ],
 "metadata": {
  "kernelspec": {
   "display_name": "Python 3",
   "language": "python",
   "name": "python3"
  },
  "language_info": {
   "codemirror_mode": {
    "name": "ipython",
    "version": 3
   },
   "file_extension": ".py",
   "mimetype": "text/x-python",
   "name": "python",
   "nbconvert_exporter": "python",
   "pygments_lexer": "ipython3",
   "version": "3.7.6"
  }
 },
 "nbformat": 4,
 "nbformat_minor": 4
}
