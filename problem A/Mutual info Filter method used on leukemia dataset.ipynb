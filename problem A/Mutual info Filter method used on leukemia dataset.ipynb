{
 "cells": [
  {
   "cell_type": "code",
   "execution_count": 104,
   "metadata": {},
   "outputs": [],
   "source": [
    "import pandas as pd\n",
    "import numpy as np\n",
    "import math"
   ]
  },
  {
   "cell_type": "markdown",
   "metadata": {},
   "source": [
    "#### Read Data"
   ]
  },
  {
   "cell_type": "code",
   "execution_count": 105,
   "metadata": {},
   "outputs": [
    {
     "data": {
      "text/plain": [
       "(75, 5148)"
      ]
     },
     "execution_count": 105,
     "metadata": {},
     "output_type": "execute_result"
    }
   ],
   "source": [
    "df = pd.read_csv('D:\\FirstSemMT\\ML\\Assignments\\leukemia.tab',sep='\\t')\n",
    "df.shape"
   ]
  },
  {
   "cell_type": "code",
   "execution_count": 106,
   "metadata": {},
   "outputs": [
    {
     "data": {
      "text/html": [
       "<div>\n",
       "<style scoped>\n",
       "    .dataframe tbody tr th:only-of-type {\n",
       "        vertical-align: middle;\n",
       "    }\n",
       "\n",
       "    .dataframe tbody tr th {\n",
       "        vertical-align: top;\n",
       "    }\n",
       "\n",
       "    .dataframe thead th {\n",
       "        text-align: right;\n",
       "    }\n",
       "</style>\n",
       "<table border=\"1\" class=\"dataframe\">\n",
       "  <thead>\n",
       "    <tr style=\"text-align: right;\">\n",
       "      <th></th>\n",
       "      <th>gene</th>\n",
       "      <th>AFFX-BioC-5_at</th>\n",
       "      <th>hum_alu_at</th>\n",
       "      <th>AFFX-DapX-M_at</th>\n",
       "      <th>AFFX-LysX-5_at</th>\n",
       "      <th>AFFX-HUMISGF3A/M97935_MA_at</th>\n",
       "      <th>AFFX-HUMISGF3A/M97935_MB_at</th>\n",
       "      <th>AFFX-HUMISGF3A/M97935_3_at</th>\n",
       "      <th>AFFX-HUMRGE/M10098_5_at</th>\n",
       "      <th>AFFX-HUMRGE/M10098_M_at</th>\n",
       "      <th>...</th>\n",
       "      <th>M93143_at</th>\n",
       "      <th>U29175_at</th>\n",
       "      <th>U48730_at</th>\n",
       "      <th>U58516_at</th>\n",
       "      <th>X06956_at</th>\n",
       "      <th>X83863_at</th>\n",
       "      <th>Z17240_at</th>\n",
       "      <th>L49218_f_at</th>\n",
       "      <th>M71243_f_at</th>\n",
       "      <th>Z78285_f_at</th>\n",
       "    </tr>\n",
       "  </thead>\n",
       "  <tbody>\n",
       "    <tr>\n",
       "      <th>0</th>\n",
       "      <td>discrete</td>\n",
       "      <td>continuous</td>\n",
       "      <td>continuous</td>\n",
       "      <td>continuous</td>\n",
       "      <td>continuous</td>\n",
       "      <td>continuous</td>\n",
       "      <td>continuous</td>\n",
       "      <td>continuous</td>\n",
       "      <td>continuous</td>\n",
       "      <td>continuous</td>\n",
       "      <td>...</td>\n",
       "      <td>continuous</td>\n",
       "      <td>continuous</td>\n",
       "      <td>continuous</td>\n",
       "      <td>continuous</td>\n",
       "      <td>continuous</td>\n",
       "      <td>continuous</td>\n",
       "      <td>continuous</td>\n",
       "      <td>continuous</td>\n",
       "      <td>continuous</td>\n",
       "      <td>continuous</td>\n",
       "    </tr>\n",
       "    <tr>\n",
       "      <th>1</th>\n",
       "      <td>class</td>\n",
       "      <td>NaN</td>\n",
       "      <td>NaN</td>\n",
       "      <td>NaN</td>\n",
       "      <td>NaN</td>\n",
       "      <td>NaN</td>\n",
       "      <td>NaN</td>\n",
       "      <td>NaN</td>\n",
       "      <td>NaN</td>\n",
       "      <td>NaN</td>\n",
       "      <td>...</td>\n",
       "      <td>NaN</td>\n",
       "      <td>NaN</td>\n",
       "      <td>NaN</td>\n",
       "      <td>NaN</td>\n",
       "      <td>NaN</td>\n",
       "      <td>NaN</td>\n",
       "      <td>NaN</td>\n",
       "      <td>NaN</td>\n",
       "      <td>NaN</td>\n",
       "      <td>NaN</td>\n",
       "    </tr>\n",
       "    <tr>\n",
       "      <th>2</th>\n",
       "      <td>ALL</td>\n",
       "      <td>88</td>\n",
       "      <td>15091</td>\n",
       "      <td>311</td>\n",
       "      <td>21</td>\n",
       "      <td>-13</td>\n",
       "      <td>215</td>\n",
       "      <td>797</td>\n",
       "      <td>14538</td>\n",
       "      <td>9738</td>\n",
       "      <td>...</td>\n",
       "      <td>384</td>\n",
       "      <td>1582</td>\n",
       "      <td>185</td>\n",
       "      <td>511</td>\n",
       "      <td>389</td>\n",
       "      <td>793</td>\n",
       "      <td>329</td>\n",
       "      <td>36</td>\n",
       "      <td>191</td>\n",
       "      <td>-37</td>\n",
       "    </tr>\n",
       "    <tr>\n",
       "      <th>3</th>\n",
       "      <td>ALL</td>\n",
       "      <td>283</td>\n",
       "      <td>11038</td>\n",
       "      <td>134</td>\n",
       "      <td>-21</td>\n",
       "      <td>-219</td>\n",
       "      <td>116</td>\n",
       "      <td>433</td>\n",
       "      <td>615</td>\n",
       "      <td>115</td>\n",
       "      <td>...</td>\n",
       "      <td>231</td>\n",
       "      <td>624</td>\n",
       "      <td>169</td>\n",
       "      <td>837</td>\n",
       "      <td>442</td>\n",
       "      <td>782</td>\n",
       "      <td>295</td>\n",
       "      <td>11</td>\n",
       "      <td>76</td>\n",
       "      <td>-14</td>\n",
       "    </tr>\n",
       "    <tr>\n",
       "      <th>4</th>\n",
       "      <td>ALL</td>\n",
       "      <td>309</td>\n",
       "      <td>16692</td>\n",
       "      <td>378</td>\n",
       "      <td>67</td>\n",
       "      <td>104</td>\n",
       "      <td>476</td>\n",
       "      <td>1474</td>\n",
       "      <td>5669</td>\n",
       "      <td>3272</td>\n",
       "      <td>...</td>\n",
       "      <td>720</td>\n",
       "      <td>753</td>\n",
       "      <td>315</td>\n",
       "      <td>1199</td>\n",
       "      <td>168</td>\n",
       "      <td>1138</td>\n",
       "      <td>777</td>\n",
       "      <td>41</td>\n",
       "      <td>228</td>\n",
       "      <td>-41</td>\n",
       "    </tr>\n",
       "  </tbody>\n",
       "</table>\n",
       "<p>5 rows × 5148 columns</p>\n",
       "</div>"
      ],
      "text/plain": [
       "       gene AFFX-BioC-5_at  hum_alu_at AFFX-DapX-M_at AFFX-LysX-5_at  \\\n",
       "0  discrete     continuous  continuous     continuous     continuous   \n",
       "1     class            NaN         NaN            NaN            NaN   \n",
       "2       ALL             88       15091            311             21   \n",
       "3       ALL            283       11038            134            -21   \n",
       "4       ALL            309       16692            378             67   \n",
       "\n",
       "  AFFX-HUMISGF3A/M97935_MA_at AFFX-HUMISGF3A/M97935_MB_at  \\\n",
       "0                  continuous                  continuous   \n",
       "1                         NaN                         NaN   \n",
       "2                         -13                         215   \n",
       "3                        -219                         116   \n",
       "4                         104                         476   \n",
       "\n",
       "  AFFX-HUMISGF3A/M97935_3_at AFFX-HUMRGE/M10098_5_at AFFX-HUMRGE/M10098_M_at  \\\n",
       "0                 continuous              continuous              continuous   \n",
       "1                        NaN                     NaN                     NaN   \n",
       "2                        797                   14538                    9738   \n",
       "3                        433                     615                     115   \n",
       "4                       1474                    5669                    3272   \n",
       "\n",
       "   ...   M93143_at   U29175_at   U48730_at   U58516_at   X06956_at  \\\n",
       "0  ...  continuous  continuous  continuous  continuous  continuous   \n",
       "1  ...         NaN         NaN         NaN         NaN         NaN   \n",
       "2  ...         384        1582         185         511         389   \n",
       "3  ...         231         624         169         837         442   \n",
       "4  ...         720         753         315        1199         168   \n",
       "\n",
       "    X83863_at   Z17240_at L49218_f_at M71243_f_at Z78285_f_at  \n",
       "0  continuous  continuous  continuous  continuous  continuous  \n",
       "1         NaN         NaN         NaN         NaN         NaN  \n",
       "2         793         329          36         191         -37  \n",
       "3         782         295          11          76         -14  \n",
       "4        1138         777          41         228         -41  \n",
       "\n",
       "[5 rows x 5148 columns]"
      ]
     },
     "execution_count": 106,
     "metadata": {},
     "output_type": "execute_result"
    }
   ],
   "source": [
    "df.head()"
   ]
  },
  {
   "cell_type": "code",
   "execution_count": 107,
   "metadata": {
    "scrolled": false
   },
   "outputs": [
    {
     "name": "stdout",
     "output_type": "stream",
     "text": [
      "72 5147\n"
     ]
    }
   ],
   "source": [
    "df.drop(df.index[df['gene'] == 'discrete'], inplace = True)\n",
    "df.drop(df.index[df['gene'] == 'class'], inplace = True)\n",
    "df.drop(df.index[72], inplace = True)\n",
    "label = df['gene'] \n",
    "df.drop(['gene'], axis = 1, inplace = True)\n",
    "df = df.values\n",
    "samples,features = df.shape\n",
    "print(samples,features)"
   ]
  },
  {
   "cell_type": "code",
   "execution_count": 108,
   "metadata": {
    "scrolled": false
   },
   "outputs": [
    {
     "data": {
      "text/plain": [
       "(72, 5147)"
      ]
     },
     "execution_count": 108,
     "metadata": {},
     "output_type": "execute_result"
    }
   ],
   "source": [
    "data = df.astype(np.float)\n",
    "data.shape"
   ]
  },
  {
   "cell_type": "markdown",
   "metadata": {},
   "source": [
    "#### Import train_test_split function and Split dataset into training set and test set"
   ]
  },
  {
   "cell_type": "code",
   "execution_count": 109,
   "metadata": {},
   "outputs": [],
   "source": [
    "from sklearn.model_selection import train_test_split\n",
    "X_train, X_test, y_train, y_test = train_test_split(data, label, test_size=0.2,random_state=100) "
   ]
  },
  {
   "cell_type": "markdown",
   "metadata": {},
   "source": [
    "#### Find Mutual Info for every feature "
   ]
  },
  {
   "cell_type": "code",
   "execution_count": 110,
   "metadata": {},
   "outputs": [
    {
     "name": "stdout",
     "output_type": "stream",
     "text": [
      "[0.01997942 0.03810999 0.00621657 ... 0.00283634 0.05001549 0.05493751]\n"
     ]
    }
   ],
   "source": [
    "ig = np.zeros(features)\n",
    "\n",
    "c1 = np.where(y_train=='ALL')[0]\n",
    "c2 = np.where(y_train=='AML')[0]\n",
    "\n",
    "u = np.array([c1.shape[0],c2.shape[0]])\n",
    "ans1=0\n",
    "ic = 0\n",
    "for p in range(2):\n",
    "    ans1 = ans1 - ((u[p]/u.sum())*math.log2(u[p]/(u.sum())))\n",
    "ic = ans1            \n",
    "\n",
    "for i in range(features): \n",
    "    minElement = np.amin(X_train[:,i])\n",
    "    maxElement = np.amax(X_train[:,i])\n",
    "    diff = (maxElement-minElement)/2\n",
    "    \n",
    "    a = minElement\n",
    "    b = a+diff\n",
    "    c = a+(2*diff)\n",
    "    \n",
    "    x = np.where(np.logical_and(X_train[:,i]>=a,X_train[:,i]<b))[0] \n",
    "    y = np.where(np.logical_and(X_train[:,i]>=b,X_train[:,i]<c))[0] \n",
    "    \n",
    "    xc1=np.intersect1d(x,c1)\n",
    "    yc1=np.intersect1d(y,c1)\n",
    "    xc2=np.intersect1d(x,c2)\n",
    "    yc2=np.intersect1d(y,c2)\n",
    "    \n",
    "    v = np.array([[xc1.shape[0],yc1.shape[0]],[xc2.shape[0],yc2.shape[0]]])\n",
    "    ans2=0\n",
    "    for p in range(2):\n",
    "        for q in range(2):\n",
    "            if(v[q][p]!=0):\n",
    "                ans2 = ans2 - ((v[q][p]/v.sum())*math.log2(v[q][p]/(v[0][p]+v[1][p])))\n",
    "    ig[i] = ic-ans2\n",
    "print(ig)\n",
    "    "
   ]
  },
  {
   "cell_type": "markdown",
   "metadata": {},
   "source": [
    "#### Sort indexes in descending order of mutual info"
   ]
  },
  {
   "cell_type": "code",
   "execution_count": 111,
   "metadata": {},
   "outputs": [
    {
     "data": {
      "text/plain": [
       "array([2423, 1223, 1548, ..., 4310,  204, 1768], dtype=int64)"
      ]
     },
     "execution_count": 111,
     "metadata": {},
     "output_type": "execute_result"
    }
   ],
   "source": [
    "sort_idxs=(-ig).argsort()[:ig.shape[0]]\n",
    "sort_idxs"
   ]
  },
  {
   "cell_type": "markdown",
   "metadata": {},
   "source": [
    "#### Select top features (less than 20%)"
   ]
  },
  {
   "cell_type": "code",
   "execution_count": 112,
   "metadata": {
    "scrolled": true
   },
   "outputs": [],
   "source": [
    "filt_idxs = sort_idxs[0:int((data.shape[1])*0.2)]"
   ]
  },
  {
   "cell_type": "code",
   "execution_count": 113,
   "metadata": {},
   "outputs": [
    {
     "data": {
      "text/plain": [
       "(57, 1029)"
      ]
     },
     "execution_count": 113,
     "metadata": {},
     "output_type": "execute_result"
    }
   ],
   "source": [
    "X_new_train = X_train[:,filt_idxs]\n",
    "X_new_test = X_test[:,filt_idxs]\n",
    "X_new_train.shape"
   ]
  },
  {
   "cell_type": "markdown",
   "metadata": {},
   "source": [
    "#### KNN Classification"
   ]
  },
  {
   "cell_type": "code",
   "execution_count": 114,
   "metadata": {},
   "outputs": [],
   "source": [
    "from sklearn.neighbors import KNeighborsClassifier\n",
    "from sklearn import metrics\n",
    "knn = KNeighborsClassifier(n_neighbors=3)\n",
    "knn.fit(X_new_train, y_train)\n",
    "y_pred = knn.predict(X_new_test)"
   ]
  },
  {
   "cell_type": "markdown",
   "metadata": {},
   "source": [
    "#### Accuracy, F score and Confusion matrix using KNN"
   ]
  },
  {
   "cell_type": "code",
   "execution_count": 115,
   "metadata": {},
   "outputs": [
    {
     "name": "stdout",
     "output_type": "stream",
     "text": [
      "Accuracy: 0.9333333333333333\n",
      "f1 score: 0.9206349206349207\n",
      "confusion matrix: [[10  0]\n",
      " [ 1  4]]\n"
     ]
    }
   ],
   "source": [
    "print(\"Accuracy:\",metrics.accuracy_score(y_test, y_pred))\n",
    "print(\"f1 score:\",metrics.f1_score(y_test, y_pred, average=\"macro\"))\n",
    "print(\"confusion matrix:\",metrics.confusion_matrix(y_test, y_pred))"
   ]
  },
  {
   "cell_type": "markdown",
   "metadata": {},
   "source": [
    "#### SNM Classification"
   ]
  },
  {
   "cell_type": "code",
   "execution_count": 116,
   "metadata": {},
   "outputs": [],
   "source": [
    "from sklearn import svm\n",
    "clf = svm.SVC(kernel='linear')\n",
    "clf.fit(X_new_train, y_train)\n",
    "y_pred = clf.predict(X_new_test)"
   ]
  },
  {
   "cell_type": "markdown",
   "metadata": {},
   "source": [
    "#### Accuracy, F score and Confusion matrix using SVM"
   ]
  },
  {
   "cell_type": "code",
   "execution_count": 117,
   "metadata": {},
   "outputs": [
    {
     "name": "stdout",
     "output_type": "stream",
     "text": [
      "Accuracy: 0.9333333333333333\n",
      "f1 score: 0.9282296650717703\n",
      "confusion matrix: [[9 1]\n",
      " [0 5]]\n"
     ]
    }
   ],
   "source": [
    "print(\"Accuracy:\",metrics.accuracy_score(y_test, y_pred))\n",
    "print(\"f1 score:\",metrics.f1_score(y_test, y_pred, average=\"macro\"))\n",
    "print(\"confusion matrix:\",metrics.confusion_matrix(y_test, y_pred))"
   ]
  },
  {
   "cell_type": "code",
   "execution_count": null,
   "metadata": {},
   "outputs": [],
   "source": []
  }
 ],
 "metadata": {
  "kernelspec": {
   "display_name": "Python 3",
   "language": "python",
   "name": "python3"
  },
  "language_info": {
   "codemirror_mode": {
    "name": "ipython",
    "version": 3
   },
   "file_extension": ".py",
   "mimetype": "text/x-python",
   "name": "python",
   "nbconvert_exporter": "python",
   "pygments_lexer": "ipython3",
   "version": "3.7.6"
  }
 },
 "nbformat": 4,
 "nbformat_minor": 4
}
